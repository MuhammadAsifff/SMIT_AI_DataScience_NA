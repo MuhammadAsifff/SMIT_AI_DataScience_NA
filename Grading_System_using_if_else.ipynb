{
  "nbformat": 4,
  "nbformat_minor": 0,
  "metadata": {
    "colab": {
      "provenance": []
    },
    "kernelspec": {
      "name": "python3",
      "display_name": "Python 3"
    },
    "language_info": {
      "name": "python"
    }
  },
  "cells": [
    {
      "cell_type": "code",
      "execution_count": null,
      "metadata": {
        "colab": {
          "base_uri": "https://localhost:8080/"
        },
        "id": "VEUlaijZwKKi",
        "outputId": "3e3c005b-a920-44d9-9dcf-dd14e1fe9d85"
      },
      "outputs": [
        {
          "output_type": "stream",
          "name": "stdout",
          "text": [
            "Enter the student's score: 79.4\n",
            "The student's grade is: A\n"
          ]
        }
      ],
      "source": [
        "# # Step 1: Define Grade Ranges and Criteria\n",
        "A1_min = 80\n",
        "A_min = 70\n",
        "B_min = 60\n",
        "C_min = 50\n",
        "D_min = 40\n",
        "E_min = 33\n",
        "\n",
        "# Step 2: Take Input\n",
        "student_score = float(input(\"Enter the student's score: \"))\n",
        "\n",
        "# Step 3: Calculate Grade\n",
        "if student_score >= A1_min:\n",
        "    grade = 'A+'\n",
        "elif student_score >= A_min:\n",
        "    grade = 'A'\n",
        "elif student_score >= B_min:\n",
        "    grade = 'B'\n",
        "elif student_score >= C_min:\n",
        "    grade = 'C'\n",
        "elif student_score >= D_min:\n",
        "    grade = 'D'\n",
        "elif student_score >= E_min:\n",
        "    grade = 'E'\n",
        "else:\n",
        "    grade = 'Fail'\n",
        "\n",
        "# Step 4: Display Result\n",
        "if student_score - int(student_score) >= 0.5:\n",
        "    grade = chr(ord(grade) - 1)  # Move one grade down if score is >= 0.5 but < 1.0\n",
        "\n",
        "print(f\"The student's grade is: {grade}\")\n"
      ]
    },
    {
      "cell_type": "markdown",
      "source": [
        "Percentage to GPA convertor\n"
      ],
      "metadata": {
        "id": "XTaE5bSJ6iDQ"
      }
    },
    {
      "cell_type": "code",
      "source": [
        "# Step 1: Define Percentage to GPA Conversion Function\n",
        "def percentage_to_gpa(percentage):\n",
        "    return (percentage / 100.0) * 4.0\n",
        "\n",
        "# Step 2: Take Input\n",
        "percentage = float(input(\"Enter the percentage: \"))\n",
        "\n",
        "# Step 3: Convert Percentage to GPA\n",
        "gpa = percentage_to_gpa(percentage)\n",
        "\n",
        "# Step 4: Display Result\n",
        "print(f\"The equivalent GPA for {percentage:.2f}% is {gpa:.2f}\")\n"
      ],
      "metadata": {
        "id": "ueVE4Y3j6p_b"
      },
      "execution_count": null,
      "outputs": []
    },
    {
      "cell_type": "markdown",
      "source": [
        "GPA to Percentage convertor\n",
        "\n",
        "\n",
        "\n",
        "\n"
      ],
      "metadata": {
        "id": "i3Fl5_tw7RGx"
      }
    },
    {
      "cell_type": "code",
      "source": [
        "# Step 1: Define GPA to Percentage Conversion Function\n",
        "def gpa_to_percentage(gpa):\n",
        "    return (gpa / 4.0) * 100.0\n",
        "\n",
        "# Step 2: Take Input\n",
        "gpa = float(input(\"Enter the GPA: \"))\n",
        "\n",
        "# Step 3: Convert GPA to Percentage\n",
        "percentage = gpa_to_percentage(gpa)\n",
        "\n",
        "# Step 4: Display Result\n",
        "print(f\"The equivalent percentage for GPA {gpa:.2f} is {percentage:.2f}%\")\n"
      ],
      "metadata": {
        "id": "2cX_kpPj7WFb"
      },
      "execution_count": null,
      "outputs": []
    },
    {
      "cell_type": "markdown",
      "source": [
        "GPA calculator"
      ],
      "metadata": {
        "id": "HwCsJ28EFYjq"
      }
    },
    {
      "cell_type": "code",
      "source": [
        "def calculate_gpa(credit_hours, numeric_grades):\n",
        "    total_credit_hours = sum(credit_hours)\n",
        "    total_honor_points = sum(credit_hours[i] * numeric_grades[i] for i in range(len(credit_hours)))\n",
        "    gpa = total_honor_points / total_credit_hours\n",
        "    return gpa\n",
        "\n",
        "# Initialize lists to store credit hours and numeric grades\n",
        "credit_hours = []\n",
        "numeric_grades = []\n",
        "\n",
        "# Take user input for the number of courses\n",
        "num_courses = int(input(\"Enter the number of courses: \"))\n",
        "\n",
        "# Take user input for credit hours and numeric grades for each course\n",
        "print(\"Enter information for each course:\")\n",
        "for i in range(num_courses):\n",
        "    print(f\"Course {i+1}\")\n",
        "    credit_hour = float(input(\"Credit Hours: \"))\n",
        "    numeric_grade = float(input(\"Numeric Grade: \"))\n",
        "    credit_hours.append(credit_hour)\n",
        "    numeric_grades.append(numeric_grade)\n",
        "    print()\n",
        "\n",
        "# Calculate GPA using the calculate_gpa function\n",
        "calculated_gpa = calculate_gpa(credit_hours, numeric_grades)\n",
        "\n",
        "# Calculate total courses, total credits, and total honor points\n",
        "total_courses = len(credit_hours)\n",
        "total_credits = sum(credit_hours)\n",
        "total_honor_points = sum(credit_hours[i] * numeric_grades[i] for i in range(total_courses))\n",
        "\n",
        "# Display results\n",
        "print(\"\\nTotals\\n\")\n",
        "print(f\"Total Courses: {total_courses}\")\n",
        "print(f\"Total Credits: {total_credits}\")\n",
        "print(f\"Honor Points: {total_honor_points:.2f}\")\n",
        "print(f\"GPA: {calculated_gpa:.2f}\")\n"
      ],
      "metadata": {
        "colab": {
          "base_uri": "https://localhost:8080/"
        },
        "id": "qhVzkJylFt9G",
        "outputId": "ef3983e0-a771-4bed-8f64-916e68ebab43"
      },
      "execution_count": null,
      "outputs": [
        {
          "output_type": "stream",
          "name": "stdout",
          "text": [
            "Enter the number of courses: 5\n",
            "Enter information for each course:\n",
            "Course 1\n",
            "Credit Hours: 2\n",
            "Numeric Grade: 3\n",
            "\n",
            "Course 2\n",
            "Credit Hours: 4\n",
            "Numeric Grade: 3\n",
            "\n",
            "Course 3\n",
            "Credit Hours: 4\n",
            "Numeric Grade: 3\n",
            "\n",
            "Course 4\n",
            "Credit Hours: 3\n",
            "Numeric Grade: 4\n",
            "\n",
            "Course 5\n",
            "Credit Hours: 3\n",
            "Numeric Grade: 4\n",
            "\n",
            "\n",
            "Totals\n",
            "\n",
            "Total Courses: 5\n",
            "Total Credits: 16.0\n",
            "Honor Points: 54.00\n",
            "GPA: 3.38\n"
          ]
        }
      ]
    },
    {
      "cell_type": "markdown",
      "source": [
        "CGPA calculator"
      ],
      "metadata": {
        "id": "RYLPEJASMjeN"
      }
    },
    {
      "cell_type": "code",
      "source": [
        "def calculate_cgpa(semester_data):\n",
        "    total_credit_hours = 0\n",
        "    total_quality_points = 0\n",
        "\n",
        "    for semester in semester_data:\n",
        "        credit_hours, numeric_grades = semester\n",
        "        total_credit_hours += sum(credit_hours)\n",
        "        total_quality_points += sum(credit_hours[i] * numeric_grades[i] for i in range(len(credit_hours)))\n",
        "\n",
        "    cgpa = total_quality_points / total_credit_hours\n",
        "    return cgpa\n",
        "\n",
        "# Take user input for the number of semesters\n",
        "num_semesters = int(input(\"Enter the number of semesters: \"))\n",
        "\n",
        "semester_data = []\n",
        "\n",
        "# Take user input for each semester\n",
        "for i in range(num_semesters):\n",
        "    print(f\"Semester {i+1}\")\n",
        "    num_courses = int(input(\"Enter the number of courses: \"))\n",
        "    credit_hours = []\n",
        "    numeric_grades = []\n",
        "\n",
        "    for j in range(num_courses):\n",
        "        print(f\"Course {j+1}\")\n",
        "        credit_hour = float(input(\"Credit Hours: \"))\n",
        "        numeric_grade = float(input(\"Numeric Grade: \"))\n",
        "        credit_hours.append(credit_hour)\n",
        "        numeric_grades.append(numeric_grade)\n",
        "        print()\n",
        "\n",
        "    semester_data.append((credit_hours, numeric_grades))\n",
        "    print()\n",
        "\n",
        "# Calculate CGPA using the calculate_cgpa function\n",
        "calculated_cgpa = calculate_cgpa(semester_data)\n",
        "\n",
        "# Display results\n",
        "print(\"\\nTotals\\n\")\n",
        "print(f\"Total Semesters: {num_semesters}\")\n",
        "\n",
        "for i in range(num_semesters):\n",
        "    total_courses = len(semester_data[i][0])\n",
        "    total_credits = sum(semester_data[i][0])\n",
        "    total_quality_points = sum(semester_data[i][0][j] * semester_data[i][1][j] for j in range(total_courses))\n",
        "    semester_cgpa = calculate_cgpa([semester_data[i]])\n",
        "\n",
        "    print(f\"\\nSemester {i+1} Totals\")\n",
        "    print(f\"Total Courses: {total_courses}\")\n",
        "    print(f\"Total Credits: {total_credits}\")\n",
        "    print(f\"Total Quality Points: {total_quality_points:.2f}\")\n",
        "    print(f\"Semester CGPA: {semester_cgpa:.2f}\")\n",
        "\n",
        "print(f\"\\nOverall CGPA: {calculated_cgpa:.2f}\")\n"
      ],
      "metadata": {
        "id": "JyhsP5EyMdwx"
      },
      "execution_count": null,
      "outputs": []
    }
  ]
}